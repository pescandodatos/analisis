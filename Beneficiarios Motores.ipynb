{
 "cells": [
  {
   "cell_type": "code",
   "execution_count": 3,
   "metadata": {},
   "outputs": [
    {
     "data": {
      "text/plain": [
       "Ano\n",
       "2008    7104\n",
       "2009    7484\n",
       "2010    4544\n",
       "2011    7642\n",
       "2012    2580\n",
       "2013    5952\n",
       "dtype: int64"
      ]
     },
     "execution_count": 3,
     "metadata": {},
     "output_type": "execute_result"
    }
   ],
   "source": [
    "%matplotlib inline\n",
    "\n",
    "import pandas\n",
    "import matplotlib.pyplot as plt\n",
    "\n",
    "matplotlib.style.use('ggplot')\n",
    "\n",
    "beneficiarios = pandas.read_csv('datos/beneficiarios_motores.csv')\n",
    "\n",
    "beneficiarios.groupby(['Ano']).size()\n",
    "\n",
    "# Cantidad de beneficiarios por año"
   ]
  },
  {
   "cell_type": "code",
   "execution_count": 47,
   "metadata": {},
   "outputs": [
    {
     "data": {
      "text/plain": [
       "<matplotlib.axes._subplots.AxesSubplot at 0x10fc21110>"
      ]
     },
     "execution_count": 47,
     "metadata": {},
     "output_type": "execute_result"
    },
    {
     "data": {
      "image/png": "[encoded data removed]",
      "text/plain": [
       "<matplotlib.figure.Figure at 0x10fb74a50>"
      ]
     },
     "metadata": {},
     "output_type": "display_data"
    }
   ],
   "source": [
    "beneficiarios.groupby(['Ano']).size().plot()"
   ]
  },
  {
   "cell_type": "code",
   "execution_count": 15,
   "metadata": {},
   "outputs": [
    {
     "data": {
      "text/html": [
       "<div>\n",
       "<style>\n",
       "    .dataframe thead tr:only-child th {\n",
       "        text-align: right;\n",
       "    }\n",
       "\n",
       "    .dataframe thead th {\n",
       "        text-align: left;\n",
       "    }\n",
       "\n",
       "    .dataframe tbody tr th {\n",
       "        vertical-align: top;\n",
       "    }\n",
       "</style>\n",
       "<table border=\"1\" class=\"dataframe\">\n",
       "  <thead>\n",
       "    <tr style=\"text-align: right;\">\n",
       "      <th></th>\n",
       "      <th></th>\n",
       "      <th>Monto_apoyado</th>\n",
       "    </tr>\n",
       "    <tr>\n",
       "      <th>Ano</th>\n",
       "      <th>Tipo_monto</th>\n",
       "      <th></th>\n",
       "    </tr>\n",
       "  </thead>\n",
       "  <tbody>\n",
       "    <tr>\n",
       "      <th rowspan=\"2\" valign=\"top\">2008</th>\n",
       "      <th>Estatal</th>\n",
       "      <td>71057026.0</td>\n",
       "    </tr>\n",
       "    <tr>\n",
       "      <th>Federal</th>\n",
       "      <td>107731213.0</td>\n",
       "    </tr>\n",
       "    <tr>\n",
       "      <th rowspan=\"2\" valign=\"top\">2009</th>\n",
       "      <th>Estatal</th>\n",
       "      <td>109144863.0</td>\n",
       "    </tr>\n",
       "    <tr>\n",
       "      <th>Federal</th>\n",
       "      <td>162837656.0</td>\n",
       "    </tr>\n",
       "    <tr>\n",
       "      <th rowspan=\"2\" valign=\"top\">2010</th>\n",
       "      <th>Estatal</th>\n",
       "      <td>49484845.0</td>\n",
       "    </tr>\n",
       "    <tr>\n",
       "      <th>Federal</th>\n",
       "      <td>112881429.0</td>\n",
       "    </tr>\n",
       "    <tr>\n",
       "      <th rowspan=\"2\" valign=\"top\">2011</th>\n",
       "      <th>Estatal</th>\n",
       "      <td>99128718.0</td>\n",
       "    </tr>\n",
       "    <tr>\n",
       "      <th>Federal</th>\n",
       "      <td>161939274.0</td>\n",
       "    </tr>\n",
       "    <tr>\n",
       "      <th rowspan=\"2\" valign=\"top\">2012</th>\n",
       "      <th>Estatal</th>\n",
       "      <td>39436490.0</td>\n",
       "    </tr>\n",
       "    <tr>\n",
       "      <th>Federal</th>\n",
       "      <td>90707474.0</td>\n",
       "    </tr>\n",
       "    <tr>\n",
       "      <th rowspan=\"2\" valign=\"top\">2013</th>\n",
       "      <th>Estatal</th>\n",
       "      <td>101160328.0</td>\n",
       "    </tr>\n",
       "    <tr>\n",
       "      <th>Federal</th>\n",
       "      <td>157696272.0</td>\n",
       "    </tr>\n",
       "  </tbody>\n",
       "</table>\n",
       "</div>"
      ],
      "text/plain": [
       "                 Monto_apoyado\n",
       "Ano  Tipo_monto               \n",
       "2008 Estatal        71057026.0\n",
       "     Federal       107731213.0\n",
       "2009 Estatal       109144863.0\n",
       "     Federal       162837656.0\n",
       "2010 Estatal        49484845.0\n",
       "     Federal       112881429.0\n",
       "2011 Estatal        99128718.0\n",
       "     Federal       161939274.0\n",
       "2012 Estatal        39436490.0\n",
       "     Federal        90707474.0\n",
       "2013 Estatal       101160328.0\n",
       "     Federal       157696272.0"
      ]
     },
     "execution_count": 15,
     "metadata": {},
     "output_type": "execute_result"
    }
   ],
   "source": [
    "beneficiarios['Monto_apoyado'] =beneficiarios['Monto_apoyado'].apply(pandas.to_numeric, downcast='signed', errors='coerce')\n",
    "\n",
    "beneficiarios[['Ano', 'Monto_apoyado', 'Tipo_monto']].groupby(['Ano','Tipo_monto']).sum()\n",
    "\n",
    "# Monto total por año"
   ]
  },
  {
   "cell_type": "code",
   "execution_count": null,
   "metadata": {
    "collapsed": true
   },
   "outputs": [],
   "source": []
  }
 ],
 "metadata": {
  "kernelspec": {
   "display_name": "Python 2",
   "language": "python",
   "name": "python2"
  },
  "language_info": {
   "codemirror_mode": {
    "name": "ipython",
    "version": 2
   },
   "file_extension": ".py",
   "mimetype": "text/x-python",
   "name": "python",
   "nbconvert_exporter": "python",
   "pygments_lexer": "ipython2",
   "version": "2.7.13"
  }
 },
 "nbformat": 4,
 "nbformat_minor": 2
}
