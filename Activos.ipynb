{
 "cells": [
  {
   "cell_type": "code",
   "execution_count": 3,
   "metadata": {},
   "outputs": [],
   "source": [
    "%matplotlib inline\n",
    "\n",
    "import pandas\n",
    "\n",
    "activos = pandas.read_csv('datos/activos.csv')"
   ]
  },
  {
   "cell_type": "code",
   "execution_count": 8,
   "metadata": {},
   "outputs": [
    {
     "data": {
      "text/plain": [
       "TIPO\n",
       "CENTRO ACUÍCOLA                              64\n",
       "CENTRO ACUÍCOLA | GRANJA                      7\n",
       "CENTRO ACUÍCOLA | GRANJA | LABORATORIO        1\n",
       "CENTRO ACUÍCOLA | LABORATORIO                 4\n",
       "EMB. MAYOR                                 3057\n",
       "EMB. MENOR                                52142\n",
       "GRANJA                                     5368\n",
       "GRANJA | LABORATORIO                         54\n",
       "LABORATORIO                                 130\n",
       "dtype: int64"
      ]
     },
     "execution_count": 8,
     "metadata": {},
     "output_type": "execute_result"
    }
   ],
   "source": [
    "activos.groupby(['TIPO']).size()"
   ]
  },
  {
   "cell_type": "code",
   "execution_count": 9,
   "metadata": {},
   "outputs": [
    {
     "data": {
      "text/plain": [
       "ESTADO\n",
       "AGUASCALIENTES             9\n",
       "BAJA CALIFORNIA         2133\n",
       "BAJA CALIFORNIA SUR     3580\n",
       "CAMPECHE                3415\n",
       "CHIAPAS                 3216\n",
       "CHIHUAHUA                 11\n",
       "COAHUILA                 155\n",
       "COLIMA                   402\n",
       "DISTRITO FEDERAL          72\n",
       "DURANGO                  232\n",
       "GUANAJUATO              1840\n",
       "GUERRERO                3700\n",
       "HIDALGO                  393\n",
       "JALISCO                 3775\n",
       "MEXICO                   265\n",
       "MICHOACAN               3125\n",
       "MORELOS                  203\n",
       "NAYARIT                 2124\n",
       "NO DISPONIBLE              1\n",
       "NUEVO LEON                10\n",
       "OAXACA                  1777\n",
       "PUEBLA                   769\n",
       "QUERETARO                349\n",
       "QUINTANA ROO             689\n",
       "SAN LUIS POTOSI           73\n",
       "SINALOA                11556\n",
       "SONORA                  4656\n",
       "TABASCO                 3841\n",
       "TAMAULIPAS              2561\n",
       "TLAXCALA                 134\n",
       "VERACRUZ                4454\n",
       "YUCATAN                 1262\n",
       "ZACATECAS                 45\n",
       "dtype: int64"
      ]
     },
     "execution_count": 9,
     "metadata": {},
     "output_type": "execute_result"
    }
   ],
   "source": [
    "activos.groupby(['ESTADO']).size()"
   ]
  },
  {
   "cell_type": "code",
   "execution_count": null,
   "metadata": {
    "collapsed": true
   },
   "outputs": [],
   "source": []
  }
 ],
 "metadata": {
  "kernelspec": {
   "display_name": "Python 2",
   "language": "python",
   "name": "python2"
  },
  "language_info": {
   "codemirror_mode": {
    "name": "ipython",
    "version": 2
   },
   "file_extension": ".py",
   "mimetype": "text/x-python",
   "name": "python",
   "nbconvert_exporter": "python",
   "pygments_lexer": "ipython2",
   "version": "2.7.13"
  }
 },
 "nbformat": 4,
 "nbformat_minor": 2
}
