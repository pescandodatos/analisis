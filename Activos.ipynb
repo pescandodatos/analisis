{
 "cells": [
  {
   "cell_type": "code",
   "execution_count": 45,
   "metadata": {
    "collapsed": true
   },
   "outputs": [],
   "source": [
    "%matplotlib inline\n",
    "\n",
    "import pandas\n",
    "\n",
    "activos = pandas.read_csv('datos/activos.csv')"
   ]
  },
  {
   "cell_type": "code",
   "execution_count": 47,
   "metadata": {},
   "outputs": [
    {
     "data": {
      "text/plain": [
       "tipo\n",
       "CENTRO ACUÍCOLA                              64\n",
       "CENTRO ACUÍCOLA | GRANJA                      7\n",
       "CENTRO ACUÍCOLA | GRANJA | LABORATORIO        1\n",
       "CENTRO ACUÍCOLA | LABORATORIO                 4\n",
       "EMB. MAYOR                                 3057\n",
       "EMB. MENOR                                52142\n",
       "GRANJA                                     5368\n",
       "GRANJA | LABORATORIO                         54\n",
       "LABORATORIO                                 130\n",
       "dtype: int64"
      ]
     },
     "execution_count": 47,
     "metadata": {},
     "output_type": "execute_result"
    }
   ],
   "source": [
    "activos.groupby(['tipo']).size()"
   ]
  },
  {
   "cell_type": "code",
   "execution_count": 48,
   "metadata": {},
   "outputs": [
    {
     "data": {
      "text/plain": [
       "estado\n",
       "AGUASCALIENTES             9\n",
       "BAJA CALIFORNIA         2133\n",
       "BAJA CALIFORNIA SUR     3580\n",
       "CAMPECHE                3415\n",
       "CHIAPAS                 3216\n",
       "CHIHUAHUA                 11\n",
       "COAHUILA                 155\n",
       "COLIMA                   402\n",
       "DISTRITO FEDERAL          72\n",
       "DURANGO                  232\n",
       "GUANAJUATO              1840\n",
       "GUERRERO                3700\n",
       "HIDALGO                  393\n",
       "JALISCO                 3775\n",
       "MEXICO                   265\n",
       "MICHOACAN               3125\n",
       "MORELOS                  203\n",
       "NAYARIT                 2124\n",
       "NO DISPONIBLE              1\n",
       "NUEVO LEON                10\n",
       "OAXACA                  1777\n",
       "PUEBLA                   769\n",
       "QUERETARO                349\n",
       "QUINTANA ROO             689\n",
       "SAN LUIS POTOSI           73\n",
       "SINALOA                11556\n",
       "SONORA                  4656\n",
       "TABASCO                 3841\n",
       "TAMAULIPAS              2561\n",
       "TLAXCALA                 134\n",
       "VERACRUZ                4454\n",
       "YUCATAN                 1262\n",
       "ZACATECAS                 45\n",
       "dtype: int64"
      ]
     },
     "execution_count": 48,
     "metadata": {},
     "output_type": "execute_result"
    }
   ],
   "source": [
    "activos.groupby(['estado']).size()"
   ]
  },
  {
   "cell_type": "code",
   "execution_count": 126,
   "metadata": {},
   "outputs": [],
   "source": [
    "# Beneficiarios que no se encuentran en nuestra lista de activos\n",
    "\n",
    "iactivos = activos.set_index(['rnpa'])\n",
    "\n",
    "beneficiarios_menores = pandas.read_csv('datos/beneficiarios_menores.csv') \n",
    "beneficiarios_componentes = pandas.read_csv('datos/beneficiarios_componentes.csv')                   \n",
    "beneficiarios_gasolina = pandas.read_csv('datos/beneficiarios_gasolina.csv')                      \n",
    "beneficiarios_diesel = pandas.read_csv('datos/beneficiarios_diesel.csv')                        \n",
    "beneficiarios_infraestructura = pandas.read_csv('datos/beneficiarios_infraestructura.csv')              \n",
    "beneficiarios_electricos = pandas.read_csv('datos/beneficiarios_electricos.csv')                                         \n",
    "beneficiarios_motores = pandas.read_csv('datos/beneficiarios_motores.csv')\n"
   ]
  },
  {
   "cell_type": "code",
   "execution_count": 141,
   "metadata": {},
   "outputs": [
    {
     "data": {
      "text/plain": [
       "{'componentes': 0,\n",
       " 'diesel': 0,\n",
       " 'electricos': 0,\n",
       " 'gasolina': 44255,\n",
       " 'infraestructura': 0,\n",
       " 'menores': 0,\n",
       " 'motores': 666}"
      ]
     },
     "execution_count": 141,
     "metadata": {},
     "output_type": "execute_result"
    }
   ],
   "source": [
    "# Cuantos RNPA de beneficiarios de diferentes programas tenemos en nuestros activos\n",
    "\n",
    "{\n",
    "'menores': len(pandas.merge(beneficiarios_menores, iactivos, left_on=['rnpa'], right_index=True)),\n",
    "'componentes': len(pandas.merge(beneficiarios_componentes, iactivos, left_on=['rnpa'], right_index=True)),\n",
    "'gasolina': len(pandas.merge(beneficiarios_gasolina, iactivos, left_on=['rnpa'], right_index=True)),\n",
    "'diesel': len(pandas.merge(beneficiarios_diesel, iactivos, left_on=['rnpa'], right_index=True)),\n",
    "'infraestructura': len(pandas.merge(beneficiarios_infraestructura, iactivos, left_on=['rnpa'], right_index=True)),\n",
    "'electricos': len(pandas.merge(beneficiarios_electricos, iactivos, left_on=['rnpa'], right_index=True)),\n",
    "'motores': len(pandas.merge(beneficiarios_motores, iactivos, left_on=['rnpa'], right_index=True))\n",
    "}\n"
   ]
  },
  {
   "cell_type": "code",
   "execution_count": null,
   "metadata": {
    "collapsed": true
   },
   "outputs": [],
   "source": []
  }
 ],
 "metadata": {
  "kernelspec": {
   "display_name": "Python 2",
   "language": "python",
   "name": "python2"
  },
  "language_info": {
   "codemirror_mode": {
    "name": "ipython",
    "version": 2
   },
   "file_extension": ".py",
   "mimetype": "text/x-python",
   "name": "python",
   "nbconvert_exporter": "python",
   "pygments_lexer": "ipython2",
   "version": "2.7.13"
  }
 },
 "nbformat": 4,
 "nbformat_minor": 2
}
