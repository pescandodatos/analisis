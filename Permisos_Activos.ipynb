{
 "cells": [
  {
   "cell_type": "code",
   "execution_count": null,
   "metadata": {
    "collapsed": true
   },
   "outputs": [],
   "source": [
    "%matplotlib inline\n",
    "\n",
    "import matplotlib\n",
    "import matplotlib.pyplot as plt\n",
    "import pandas\n",
    "import geopandas as gpd\n",
    "from shapely.geometry import Point\n",
    "\n",
    "from IPython.core.debugger import Tracer\n",
    "\n",
    "# donde centrar todos los mapas\n",
    "center_mx = [23.3650705, -103.5735145]\n",
    "\n",
    "#---------------¿La población atendida corresponde con la población objetivo del programa?---------------\n",
    "\n",
    "\n",
    "# El cruce con el RNPA y después con la base de permisos nos ayuda a identificar algunas características. \n",
    "\n",
    "# Todos las embarcaciones que tienen permisos\n",
    "# 'RNPA', 'Embarcacion', 'Tipo', 'Municipio', 'Localidad', 'Estado', 'Ano_Construido'\n",
    "activos = pandas.read_csv('activos_geo.csv') #('../datos/activos.csv')\n",
    "\n",
    "# Un ejemplo de embarcaciones y sus RNPA\n",
    "municipalities_fp = '../datos/municipalities.shp'\n",
    "municipalities = gpd.read_file(municipalities_fp)\n",
    "\n",
    "#municipalities['Municipio'] = municipalities['NOM_MUN'].str.upper()\n",
    "#activos['Municipio'] = activos['Municipio'].str.upper()\n",
    "\n",
    "#activos_map = pandas.merge(municipalities, activos)\n",
    "\n",
    "#activos.head()\n",
    "\n",
    "base = municipalities.plot()\n",
    "activos.plot(ax=base, marker='o', color='red', markersize=5);\n",
    "\n",
    "plt.show()"
   ]
  },
  {
   "cell_type": "code",
   "execution_count": null,
   "metadata": {
    "collapsed": true
   },
   "outputs": [],
   "source": []
  },
  {
   "cell_type": "code",
   "execution_count": null,
   "metadata": {
    "collapsed": true
   },
   "outputs": [],
   "source": []
  }
 ],
 "metadata": {
  "kernelspec": {
   "display_name": "Python 2",
   "language": "python",
   "name": "python2"
  },
  "language_info": {
   "codemirror_mode": {
    "name": "ipython",
    "version": 2
   },
   "file_extension": ".py",
   "mimetype": "text/x-python",
   "name": "python",
   "nbconvert_exporter": "python",
   "pygments_lexer": "ipython2",
   "version": "2.7.13"
  }
 },
 "nbformat": 4,
 "nbformat_minor": 2
}
