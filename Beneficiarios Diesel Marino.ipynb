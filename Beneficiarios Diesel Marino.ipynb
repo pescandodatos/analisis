{
 "cells": [
  {
   "cell_type": "code",
   "execution_count": 1,
   "metadata": {
    "collapsed": true
   },
   "outputs": [],
   "source": [
    "%matplotlib inline\n",
    "\n",
    "import pandas\n",
    "\n",
    "beneficiarios = pandas.read_csv('datos/beneficiarios_diesel.csv')"
   ]
  },
  {
   "cell_type": "code",
   "execution_count": 3,
   "metadata": {},
   "outputs": [
    {
     "data": {
      "text/plain": [
       "ano\n",
       "2011     924\n",
       "2012     792\n",
       "2013    1955\n",
       "2014     800\n",
       "2015     849\n",
       "dtype: int64"
      ]
     },
     "execution_count": 3,
     "metadata": {},
     "output_type": "execute_result"
    }
   ],
   "source": [
    "beneficiarios.groupby(['ano']).size()\n",
    "\n",
    "# Cantidad de beneficiarios por año"
   ]
  },
  {
   "cell_type": "code",
   "execution_count": 51,
   "metadata": {},
   "outputs": [
    {
     "data": {
      "text/html": [
       "<div>\n",
       "<style>\n",
       "    .dataframe thead tr:only-child th {\n",
       "        text-align: right;\n",
       "    }\n",
       "\n",
       "    .dataframe thead th {\n",
       "        text-align: left;\n",
       "    }\n",
       "\n",
       "    .dataframe tbody tr th {\n",
       "        vertical-align: top;\n",
       "    }\n",
       "</style>\n",
       "<table border=\"1\" class=\"dataframe\">\n",
       "  <thead>\n",
       "    <tr style=\"text-align: right;\">\n",
       "      <th></th>\n",
       "      <th>monto</th>\n",
       "    </tr>\n",
       "    <tr>\n",
       "      <th>ano</th>\n",
       "      <th></th>\n",
       "    </tr>\n",
       "  </thead>\n",
       "  <tbody>\n",
       "    <tr>\n",
       "      <th>2011</th>\n",
       "      <td>7.479965e+08</td>\n",
       "    </tr>\n",
       "    <tr>\n",
       "      <th>2012</th>\n",
       "      <td>5.370871e+08</td>\n",
       "    </tr>\n",
       "    <tr>\n",
       "      <th>2013</th>\n",
       "      <td>4.861465e+08</td>\n",
       "    </tr>\n",
       "    <tr>\n",
       "      <th>2014</th>\n",
       "      <td>4.192091e+07</td>\n",
       "    </tr>\n",
       "    <tr>\n",
       "      <th>2015</th>\n",
       "      <td>4.200000e+02</td>\n",
       "    </tr>\n",
       "  </tbody>\n",
       "</table>\n",
       "</div>"
      ],
      "text/plain": [
       "             monto\n",
       "ano               \n",
       "2011  7.479965e+08\n",
       "2012  5.370871e+08\n",
       "2013  4.861465e+08\n",
       "2014  4.192091e+07\n",
       "2015  4.200000e+02"
      ]
     },
     "execution_count": 51,
     "metadata": {},
     "output_type": "execute_result"
    }
   ],
   "source": [
    "beneficiarios['monto'] =beneficiarios['monto'].apply(pandas.to_numeric, downcast='signed', errors='coerce')\n",
    "\n",
    "beneficiarios[['ano', 'monto']].groupby(['ano']).sum()\n",
    "\n",
    "# Monto total por año"
   ]
  },
  {
   "cell_type": "code",
   "execution_count": 29,
   "metadata": {},
   "outputs": [
    {
     "data": {
      "text/plain": [
       "estado\n",
       "BAJA CALIFORNIA                     192\n",
       "BAJA CALIFORNIA SUR                  57\n",
       "CAMPECHE                            286\n",
       "CHIAPAS                              15\n",
       "COLIMA                               28\n",
       "DISTRITO FEDERAL                     16\n",
       "JALISCO                               5\n",
       "NAYARIT                              38\n",
       "OAXACA                               88\n",
       "QUINTANA ROO                         18\n",
       "SINALOA                            2152\n",
       "SONORA                             1012\n",
       "TABASCO                              89\n",
       "TAMAULIPAS                          486\n",
       "VERACRUZ DE IGNACIO DE LA LLAVE     151\n",
       "YUCATAN                             687\n",
       "dtype: int64"
      ]
     },
     "execution_count": 29,
     "metadata": {},
     "output_type": "execute_result"
    }
   ],
   "source": [
    "beneficiarios.groupby(['estado']).size()\n",
    "\n",
    "# Cantidad de beneficiarios por estado"
   ]
  },
  {
   "cell_type": "code",
   "execution_count": null,
   "metadata": {
    "collapsed": true
   },
   "outputs": [],
   "source": []
  }
 ],
 "metadata": {
  "kernelspec": {
   "display_name": "Python 2",
   "language": "python",
   "name": "python2"
  },
  "language_info": {
   "codemirror_mode": {
    "name": "ipython",
    "version": 2
   },
   "file_extension": ".py",
   "mimetype": "text/x-python",
   "name": "python",
   "nbconvert_exporter": "python",
   "pygments_lexer": "ipython2",
   "version": "2.7.13"
  }
 },
 "nbformat": 4,
 "nbformat_minor": 2
}
