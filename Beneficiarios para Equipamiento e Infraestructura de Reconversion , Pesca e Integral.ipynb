{
 "cells": [
  {
   "cell_type": "code",
   "execution_count": 2,
   "metadata": {},
   "outputs": [
    {
     "data": {
      "text/plain": [
       "ano\n",
       "2008      37\n",
       "2009      29\n",
       "2011    2730\n",
       "2012    1483\n",
       "dtype: int64"
      ]
     },
     "execution_count": 2,
     "metadata": {},
     "output_type": "execute_result"
    }
   ],
   "source": [
    "%matplotlib inline\n",
    "\n",
    "import pandas\n",
    "\n",
    "beneficiarios = pandas.read_csv('datos/beneficiarios_infraestructura.csv')\n",
    "\n",
    "beneficiarios.groupby(['ano']).size()\n",
    "\n",
    "# Cantidad de beneficiarios por año"
   ]
  },
  {
   "cell_type": "code",
   "execution_count": 3,
   "metadata": {},
   "outputs": [
    {
     "data": {
      "text/plain": [
       "<matplotlib.axes._subplots.AxesSubplot at 0x10a053cd0>"
      ]
     },
     "execution_count": 3,
     "metadata": {},
     "output_type": "execute_result"
    },
    {
     "data": {
      "image/png": "[encoded data removed]",
      "text/plain": [
       "<matplotlib.figure.Figure at 0x109714550>"
      ]
     },
     "metadata": {},
     "output_type": "display_data"
    }
   ],
   "source": [
    "beneficiarios.groupby(['ano']).size().plot.bar(title='Cantidad de beneficiarios')"
   ]
  },
  {
   "cell_type": "code",
   "execution_count": 4,
   "metadata": {},
   "outputs": [
    {
     "data": {
      "text/html": [
       "<div>\n",
       "<style>\n",
       "    .dataframe thead tr:only-child th {\n",
       "        text-align: right;\n",
       "    }\n",
       "\n",
       "    .dataframe thead th {\n",
       "        text-align: left;\n",
       "    }\n",
       "\n",
       "    .dataframe tbody tr th {\n",
       "        vertical-align: top;\n",
       "    }\n",
       "</style>\n",
       "<table border=\"1\" class=\"dataframe\">\n",
       "  <thead>\n",
       "    <tr style=\"text-align: right;\">\n",
       "      <th></th>\n",
       "      <th>monto</th>\n",
       "    </tr>\n",
       "    <tr>\n",
       "      <th>ano</th>\n",
       "      <th></th>\n",
       "    </tr>\n",
       "  </thead>\n",
       "  <tbody>\n",
       "    <tr>\n",
       "      <th>2008</th>\n",
       "      <td>4.878084e+07</td>\n",
       "    </tr>\n",
       "    <tr>\n",
       "      <th>2009</th>\n",
       "      <td>3.840000e+07</td>\n",
       "    </tr>\n",
       "    <tr>\n",
       "      <th>2011</th>\n",
       "      <td>4.083803e+08</td>\n",
       "    </tr>\n",
       "    <tr>\n",
       "      <th>2012</th>\n",
       "      <td>1.789231e+08</td>\n",
       "    </tr>\n",
       "  </tbody>\n",
       "</table>\n",
       "</div>"
      ],
      "text/plain": [
       "             monto\n",
       "ano               \n",
       "2008  4.878084e+07\n",
       "2009  3.840000e+07\n",
       "2011  4.083803e+08\n",
       "2012  1.789231e+08"
      ]
     },
     "execution_count": 4,
     "metadata": {},
     "output_type": "execute_result"
    }
   ],
   "source": [
    "beneficiarios['monto'] =beneficiarios['monto'].apply(pandas.to_numeric, downcast='signed', errors='coerce')\n",
    "\n",
    "beneficiarios[['ano', 'monto']].groupby(['ano']).sum()\n",
    "\n",
    "# Monto total por año"
   ]
  },
  {
   "cell_type": "code",
   "execution_count": 5,
   "metadata": {},
   "outputs": [
    {
     "data": {
      "text/html": [
       "<div>\n",
       "<style>\n",
       "    .dataframe thead tr:only-child th {\n",
       "        text-align: right;\n",
       "    }\n",
       "\n",
       "    .dataframe thead th {\n",
       "        text-align: left;\n",
       "    }\n",
       "\n",
       "    .dataframe tbody tr th {\n",
       "        vertical-align: top;\n",
       "    }\n",
       "</style>\n",
       "<table border=\"1\" class=\"dataframe\">\n",
       "  <thead>\n",
       "    <tr style=\"text-align: right;\">\n",
       "      <th></th>\n",
       "      <th>monto</th>\n",
       "    </tr>\n",
       "    <tr>\n",
       "      <th>estado</th>\n",
       "      <th></th>\n",
       "    </tr>\n",
       "  </thead>\n",
       "  <tbody>\n",
       "    <tr>\n",
       "      <th>AGUASCALIENTES</th>\n",
       "      <td>3.466105e+06</td>\n",
       "    </tr>\n",
       "    <tr>\n",
       "      <th>BAJA CALIFORNIA</th>\n",
       "      <td>5.667262e+07</td>\n",
       "    </tr>\n",
       "    <tr>\n",
       "      <th>BAJA CALIFORNIA SUR</th>\n",
       "      <td>3.621604e+07</td>\n",
       "    </tr>\n",
       "    <tr>\n",
       "      <th>CAMPECHE</th>\n",
       "      <td>3.351703e+07</td>\n",
       "    </tr>\n",
       "    <tr>\n",
       "      <th>CHIAPAS</th>\n",
       "      <td>1.286202e+07</td>\n",
       "    </tr>\n",
       "    <tr>\n",
       "      <th>CHIHUAHUA</th>\n",
       "      <td>1.140153e+07</td>\n",
       "    </tr>\n",
       "    <tr>\n",
       "      <th>COAHUILA</th>\n",
       "      <td>2.176045e+06</td>\n",
       "    </tr>\n",
       "    <tr>\n",
       "      <th>COLIMA</th>\n",
       "      <td>8.505128e+06</td>\n",
       "    </tr>\n",
       "    <tr>\n",
       "      <th>DISTRITO FEDERAL</th>\n",
       "      <td>1.070400e+05</td>\n",
       "    </tr>\n",
       "    <tr>\n",
       "      <th>DURANGO</th>\n",
       "      <td>4.303616e+06</td>\n",
       "    </tr>\n",
       "    <tr>\n",
       "      <th>GUANAJUATO</th>\n",
       "      <td>4.097959e+06</td>\n",
       "    </tr>\n",
       "    <tr>\n",
       "      <th>GUERRERO</th>\n",
       "      <td>7.557139e+07</td>\n",
       "    </tr>\n",
       "    <tr>\n",
       "      <th>HIDALGO</th>\n",
       "      <td>1.175969e+07</td>\n",
       "    </tr>\n",
       "    <tr>\n",
       "      <th>JALISCO</th>\n",
       "      <td>4.701569e+07</td>\n",
       "    </tr>\n",
       "    <tr>\n",
       "      <th>MEXICO</th>\n",
       "      <td>6.553182e+06</td>\n",
       "    </tr>\n",
       "    <tr>\n",
       "      <th>MICHOACAN</th>\n",
       "      <td>4.231453e+07</td>\n",
       "    </tr>\n",
       "    <tr>\n",
       "      <th>NAYARIT</th>\n",
       "      <td>3.019953e+06</td>\n",
       "    </tr>\n",
       "    <tr>\n",
       "      <th>NUEVO LEON</th>\n",
       "      <td>1.387195e+06</td>\n",
       "    </tr>\n",
       "    <tr>\n",
       "      <th>OAXACA</th>\n",
       "      <td>1.454163e+07</td>\n",
       "    </tr>\n",
       "    <tr>\n",
       "      <th>PUEBLA</th>\n",
       "      <td>8.711684e+06</td>\n",
       "    </tr>\n",
       "    <tr>\n",
       "      <th>QUERETARO</th>\n",
       "      <td>4.322576e+06</td>\n",
       "    </tr>\n",
       "    <tr>\n",
       "      <th>QUINTANA ROO</th>\n",
       "      <td>1.963824e+07</td>\n",
       "    </tr>\n",
       "    <tr>\n",
       "      <th>SAN LUIS POTOSI</th>\n",
       "      <td>9.322500e+06</td>\n",
       "    </tr>\n",
       "    <tr>\n",
       "      <th>SINALOA</th>\n",
       "      <td>4.417929e+06</td>\n",
       "    </tr>\n",
       "    <tr>\n",
       "      <th>SONORA</th>\n",
       "      <td>9.732205e+07</td>\n",
       "    </tr>\n",
       "    <tr>\n",
       "      <th>TABASCO</th>\n",
       "      <td>5.330622e+07</td>\n",
       "    </tr>\n",
       "    <tr>\n",
       "      <th>TAMAULIPAS</th>\n",
       "      <td>5.541344e+07</td>\n",
       "    </tr>\n",
       "    <tr>\n",
       "      <th>TLAXCALA</th>\n",
       "      <td>2.271794e+06</td>\n",
       "    </tr>\n",
       "    <tr>\n",
       "      <th>VERACRUZ</th>\n",
       "      <td>1.478713e+07</td>\n",
       "    </tr>\n",
       "    <tr>\n",
       "      <th>YUCATAN</th>\n",
       "      <td>2.626752e+07</td>\n",
       "    </tr>\n",
       "    <tr>\n",
       "      <th>ZACATECAS</th>\n",
       "      <td>3.214823e+06</td>\n",
       "    </tr>\n",
       "  </tbody>\n",
       "</table>\n",
       "</div>"
      ],
      "text/plain": [
       "                            monto\n",
       "estado                           \n",
       "AGUASCALIENTES       3.466105e+06\n",
       "BAJA CALIFORNIA      5.667262e+07\n",
       "BAJA CALIFORNIA SUR  3.621604e+07\n",
       "CAMPECHE             3.351703e+07\n",
       "CHIAPAS              1.286202e+07\n",
       "CHIHUAHUA            1.140153e+07\n",
       "COAHUILA             2.176045e+06\n",
       "COLIMA               8.505128e+06\n",
       "DISTRITO FEDERAL     1.070400e+05\n",
       "DURANGO              4.303616e+06\n",
       "GUANAJUATO           4.097959e+06\n",
       "GUERRERO             7.557139e+07\n",
       "HIDALGO              1.175969e+07\n",
       "JALISCO              4.701569e+07\n",
       "MEXICO               6.553182e+06\n",
       "MICHOACAN            4.231453e+07\n",
       "NAYARIT              3.019953e+06\n",
       "NUEVO LEON           1.387195e+06\n",
       "OAXACA               1.454163e+07\n",
       "PUEBLA               8.711684e+06\n",
       "QUERETARO            4.322576e+06\n",
       "QUINTANA ROO         1.963824e+07\n",
       "SAN LUIS POTOSI      9.322500e+06\n",
       "SINALOA              4.417929e+06\n",
       "SONORA               9.732205e+07\n",
       "TABASCO              5.330622e+07\n",
       "TAMAULIPAS           5.541344e+07\n",
       "TLAXCALA             2.271794e+06\n",
       "VERACRUZ             1.478713e+07\n",
       "YUCATAN              2.626752e+07\n",
       "ZACATECAS            3.214823e+06"
      ]
     },
     "execution_count": 5,
     "metadata": {},
     "output_type": "execute_result"
    }
   ],
   "source": [
    "beneficiarios[['estado', 'monto']].groupby('estado').sum()"
   ]
  },
  {
   "cell_type": "code",
   "execution_count": 6,
   "metadata": {},
   "outputs": [
    {
     "data": {
      "text/plain": [
       "<matplotlib.axes._subplots.AxesSubplot at 0x109835c90>"
      ]
     },
     "execution_count": 6,
     "metadata": {},
     "output_type": "execute_result"
    },
    {
     "data": {
      "image/png": "[encoded data removed]",
      "text/plain": [
       "<matplotlib.figure.Figure at 0x1098e9150>"
      ]
     },
     "metadata": {},
     "output_type": "display_data"
    }
   ],
   "source": [
    "beneficiarios[['estado', 'monto']].groupby('estado').sum().plot.bar()"
   ]
  },
  {
   "cell_type": "code",
   "execution_count": 9,
   "metadata": {},
   "outputs": [
    {
     "data": {
      "text/plain": [
       "tipo_proyecto\n",
       "ACTIVOS PRODUCTIVOS                          2\n",
       "ACTIVOS PRODUCTIVOS Y PROGRAMA SOPORTE      25\n",
       "INFRAESTRUCTURA ACUICOLA                     3\n",
       "MAQUINARIA Y EQUIPO PESQUERO                 1\n",
       "PROGRAMA SOPORTE                             2\n",
       "PROYECTO INTEGRAL ACUICOLA                  28\n",
       "PROYECTO INTEGRAL DE ACUACULTURA            18\n",
       "PROYECTO INTEGRAL DE MARICULTURA             6\n",
       "PROYECTO INTEGRAL PESCA                      5\n",
       "PROYECTO INTEGRAL PESQUERO                  49\n",
       "Proyecto Pesca                            4140\n",
       "dtype: int64"
      ]
     },
     "execution_count": 9,
     "metadata": {},
     "output_type": "execute_result"
    }
   ],
   "source": [
    "beneficiarios[['tipo_proyecto']].groupby('tipo_proyecto').size()"
   ]
  },
  {
   "cell_type": "code",
   "execution_count": 10,
   "metadata": {},
   "outputs": [
    {
     "data": {
      "text/html": [
       "<div>\n",
       "<style>\n",
       "    .dataframe thead tr:only-child th {\n",
       "        text-align: right;\n",
       "    }\n",
       "\n",
       "    .dataframe thead th {\n",
       "        text-align: left;\n",
       "    }\n",
       "\n",
       "    .dataframe tbody tr th {\n",
       "        vertical-align: top;\n",
       "    }\n",
       "</style>\n",
       "<table border=\"1\" class=\"dataframe\">\n",
       "  <thead>\n",
       "    <tr style=\"text-align: right;\">\n",
       "      <th></th>\n",
       "      <th>monto</th>\n",
       "    </tr>\n",
       "    <tr>\n",
       "      <th>tipo_proyecto</th>\n",
       "      <th></th>\n",
       "    </tr>\n",
       "  </thead>\n",
       "  <tbody>\n",
       "    <tr>\n",
       "      <th>ACTIVOS PRODUCTIVOS</th>\n",
       "      <td>9.600720e+05</td>\n",
       "    </tr>\n",
       "    <tr>\n",
       "      <th>ACTIVOS PRODUCTIVOS Y PROGRAMA SOPORTE</th>\n",
       "      <td>3.718793e+07</td>\n",
       "    </tr>\n",
       "    <tr>\n",
       "      <th>INFRAESTRUCTURA ACUICOLA</th>\n",
       "      <td>4.157862e+06</td>\n",
       "    </tr>\n",
       "    <tr>\n",
       "      <th>MAQUINARIA Y EQUIPO PESQUERO</th>\n",
       "      <td>1.168087e+06</td>\n",
       "    </tr>\n",
       "    <tr>\n",
       "      <th>PROGRAMA SOPORTE</th>\n",
       "      <td>2.520000e+05</td>\n",
       "    </tr>\n",
       "    <tr>\n",
       "      <th>PROYECTO INTEGRAL ACUICOLA</th>\n",
       "      <td>3.675256e+07</td>\n",
       "    </tr>\n",
       "    <tr>\n",
       "      <th>PROYECTO INTEGRAL DE ACUACULTURA</th>\n",
       "      <td>1.535218e+07</td>\n",
       "    </tr>\n",
       "    <tr>\n",
       "      <th>PROYECTO INTEGRAL DE MARICULTURA</th>\n",
       "      <td>6.164322e+06</td>\n",
       "    </tr>\n",
       "    <tr>\n",
       "      <th>PROYECTO INTEGRAL PESCA</th>\n",
       "      <td>6.702330e+06</td>\n",
       "    </tr>\n",
       "    <tr>\n",
       "      <th>PROYECTO INTEGRAL PESQUERO</th>\n",
       "      <td>4.609655e+07</td>\n",
       "    </tr>\n",
       "    <tr>\n",
       "      <th>Proyecto Pesca</th>\n",
       "      <td>5.196904e+08</td>\n",
       "    </tr>\n",
       "  </tbody>\n",
       "</table>\n",
       "</div>"
      ],
      "text/plain": [
       "                                               monto\n",
       "tipo_proyecto                                       \n",
       "ACTIVOS PRODUCTIVOS                     9.600720e+05\n",
       "ACTIVOS PRODUCTIVOS Y PROGRAMA SOPORTE  3.718793e+07\n",
       "INFRAESTRUCTURA ACUICOLA                4.157862e+06\n",
       "MAQUINARIA Y EQUIPO PESQUERO            1.168087e+06\n",
       "PROGRAMA SOPORTE                        2.520000e+05\n",
       "PROYECTO INTEGRAL ACUICOLA              3.675256e+07\n",
       "PROYECTO INTEGRAL DE ACUACULTURA        1.535218e+07\n",
       "PROYECTO INTEGRAL DE MARICULTURA        6.164322e+06\n",
       "PROYECTO INTEGRAL PESCA                 6.702330e+06\n",
       "PROYECTO INTEGRAL PESQUERO              4.609655e+07\n",
       "Proyecto Pesca                          5.196904e+08"
      ]
     },
     "execution_count": 10,
     "metadata": {},
     "output_type": "execute_result"
    }
   ],
   "source": [
    "beneficiarios[['tipo_proyecto','monto']].groupby('tipo_proyecto').sum()"
   ]
  },
  {
   "cell_type": "code",
   "execution_count": null,
   "metadata": {
    "collapsed": true
   },
   "outputs": [],
   "source": []
  }
 ],
 "metadata": {
  "kernelspec": {
   "display_name": "Python 2",
   "language": "python",
   "name": "python2"
  },
  "language_info": {
   "codemirror_mode": {
    "name": "ipython",
    "version": 2
   },
   "file_extension": ".py",
   "mimetype": "text/x-python",
   "name": "python",
   "nbconvert_exporter": "python",
   "pygments_lexer": "ipython2",
   "version": "2.7.13"
  }
 },
 "nbformat": 4,
 "nbformat_minor": 2
}
