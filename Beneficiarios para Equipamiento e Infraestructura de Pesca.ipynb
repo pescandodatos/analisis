{
 "cells": [
  {
   "cell_type": "code",
   "execution_count": 1,
   "metadata": {},
   "outputs": [
    {
     "data": {
      "text/plain": [
       "ano\n",
       "2011    2695\n",
       "2012    1445\n",
       "dtype: int64"
      ]
     },
     "execution_count": 1,
     "metadata": {},
     "output_type": "execute_result"
    }
   ],
   "source": [
    "%matplotlib inline\n",
    "\n",
    "import pandas\n",
    "\n",
    "beneficiarios = pandas.read_csv('datos/beneficiarios_componentes.csv')\n",
    "\n",
    "beneficiarios.groupby(['ano']).size()\n",
    "\n",
    "# Cantidad de beneficiarios por año"
   ]
  },
  {
   "cell_type": "code",
   "execution_count": 3,
   "metadata": {},
   "outputs": [
    {
     "data": {
      "text/plain": [
       "<matplotlib.axes._subplots.AxesSubplot at 0x10ca574d0>"
      ]
     },
     "execution_count": 3,
     "metadata": {},
     "output_type": "execute_result"
    },
    {
     "data": {
      "image/png": "[encoded data removed]",
      "text/plain": [
       "<matplotlib.figure.Figure at 0x109a20410>"
      ]
     },
     "metadata": {},
     "output_type": "display_data"
    }
   ],
   "source": [
    "beneficiarios.groupby(['ano']).size().plot.bar(title='Cantidad de beneficiarios')"
   ]
  },
  {
   "cell_type": "code",
   "execution_count": 6,
   "metadata": {},
   "outputs": [
    {
     "data": {
      "text/html": [
       "<div>\n",
       "<style>\n",
       "    .dataframe thead tr:only-child th {\n",
       "        text-align: right;\n",
       "    }\n",
       "\n",
       "    .dataframe thead th {\n",
       "        text-align: left;\n",
       "    }\n",
       "\n",
       "    .dataframe tbody tr th {\n",
       "        vertical-align: top;\n",
       "    }\n",
       "</style>\n",
       "<table border=\"1\" class=\"dataframe\">\n",
       "  <thead>\n",
       "    <tr style=\"text-align: right;\">\n",
       "      <th></th>\n",
       "      <th>monto</th>\n",
       "    </tr>\n",
       "    <tr>\n",
       "      <th>ano</th>\n",
       "      <th></th>\n",
       "    </tr>\n",
       "  </thead>\n",
       "  <tbody>\n",
       "    <tr>\n",
       "      <th>2011</th>\n",
       "      <td>7.899261e+09</td>\n",
       "    </tr>\n",
       "    <tr>\n",
       "      <th>2012</th>\n",
       "      <td>4.105561e+08</td>\n",
       "    </tr>\n",
       "  </tbody>\n",
       "</table>\n",
       "</div>"
      ],
      "text/plain": [
       "             monto\n",
       "ano               \n",
       "2011  7.899261e+09\n",
       "2012  4.105561e+08"
      ]
     },
     "execution_count": 6,
     "metadata": {},
     "output_type": "execute_result"
    }
   ],
   "source": [
    "beneficiarios['monto'] =beneficiarios['monto'].apply(pandas.to_numeric, downcast='signed', errors='coerce')\n",
    "\n",
    "beneficiarios[['ano', 'monto']].groupby(['ano']).sum()\n",
    "\n",
    "# Monto total por año"
   ]
  },
  {
   "cell_type": "code",
   "execution_count": 8,
   "metadata": {},
   "outputs": [
    {
     "data": {
      "text/html": [
       "<div>\n",
       "<style>\n",
       "    .dataframe thead tr:only-child th {\n",
       "        text-align: right;\n",
       "    }\n",
       "\n",
       "    .dataframe thead th {\n",
       "        text-align: left;\n",
       "    }\n",
       "\n",
       "    .dataframe tbody tr th {\n",
       "        vertical-align: top;\n",
       "    }\n",
       "</style>\n",
       "<table border=\"1\" class=\"dataframe\">\n",
       "  <thead>\n",
       "    <tr style=\"text-align: right;\">\n",
       "      <th></th>\n",
       "      <th>monto</th>\n",
       "    </tr>\n",
       "    <tr>\n",
       "      <th>estado</th>\n",
       "      <th></th>\n",
       "    </tr>\n",
       "  </thead>\n",
       "  <tbody>\n",
       "    <tr>\n",
       "      <th>AGUASCALIENTES</th>\n",
       "      <td>3.466105e+06</td>\n",
       "    </tr>\n",
       "    <tr>\n",
       "      <th>BAJA CALIFORNIA</th>\n",
       "      <td>4.064814e+09</td>\n",
       "    </tr>\n",
       "    <tr>\n",
       "      <th>BAJA CALIFORNIA SUR</th>\n",
       "      <td>2.526217e+07</td>\n",
       "    </tr>\n",
       "    <tr>\n",
       "      <th>CHIAPAS</th>\n",
       "      <td>1.286202e+07</td>\n",
       "    </tr>\n",
       "    <tr>\n",
       "      <th>CHIHUAHUA</th>\n",
       "      <td>1.140153e+07</td>\n",
       "    </tr>\n",
       "    <tr>\n",
       "      <th>COAHUILA</th>\n",
       "      <td>2.176045e+06</td>\n",
       "    </tr>\n",
       "    <tr>\n",
       "      <th>COLIMA</th>\n",
       "      <td>8.505128e+06</td>\n",
       "    </tr>\n",
       "    <tr>\n",
       "      <th>DISTRITO FEDERAL</th>\n",
       "      <td>1.070400e+05</td>\n",
       "    </tr>\n",
       "    <tr>\n",
       "      <th>DURANGO</th>\n",
       "      <td>4.303616e+06</td>\n",
       "    </tr>\n",
       "    <tr>\n",
       "      <th>GUANAJUATO</th>\n",
       "      <td>4.097959e+06</td>\n",
       "    </tr>\n",
       "    <tr>\n",
       "      <th>GUERRERO</th>\n",
       "      <td>7.924012e+08</td>\n",
       "    </tr>\n",
       "    <tr>\n",
       "      <th>HIDALGO</th>\n",
       "      <td>1.175969e+07</td>\n",
       "    </tr>\n",
       "    <tr>\n",
       "      <th>JALISCO</th>\n",
       "      <td>4.701569e+07</td>\n",
       "    </tr>\n",
       "    <tr>\n",
       "      <th>MEXICO</th>\n",
       "      <td>1.375717e+09</td>\n",
       "    </tr>\n",
       "    <tr>\n",
       "      <th>MICHOACAN</th>\n",
       "      <td>1.706729e+08</td>\n",
       "    </tr>\n",
       "    <tr>\n",
       "      <th>NAYARIT</th>\n",
       "      <td>3.019953e+06</td>\n",
       "    </tr>\n",
       "    <tr>\n",
       "      <th>NUEVO LEON</th>\n",
       "      <td>1.387195e+06</td>\n",
       "    </tr>\n",
       "    <tr>\n",
       "      <th>OAXACA</th>\n",
       "      <td>1.184574e+07</td>\n",
       "    </tr>\n",
       "    <tr>\n",
       "      <th>PUEBLA</th>\n",
       "      <td>7.111039e+06</td>\n",
       "    </tr>\n",
       "    <tr>\n",
       "      <th>QUERETARO</th>\n",
       "      <td>1.436654e+09</td>\n",
       "    </tr>\n",
       "    <tr>\n",
       "      <th>QUINTANA ROO</th>\n",
       "      <td>6.717425e+06</td>\n",
       "    </tr>\n",
       "    <tr>\n",
       "      <th>SAN LUIS POTOSI</th>\n",
       "      <td>9.322500e+06</td>\n",
       "    </tr>\n",
       "    <tr>\n",
       "      <th>SONORA</th>\n",
       "      <td>9.615245e+07</td>\n",
       "    </tr>\n",
       "    <tr>\n",
       "      <th>TABASCO</th>\n",
       "      <td>2.334751e+07</td>\n",
       "    </tr>\n",
       "    <tr>\n",
       "      <th>TAMAULIPAS</th>\n",
       "      <td>1.699352e+08</td>\n",
       "    </tr>\n",
       "    <tr>\n",
       "      <th>TLAXCALA</th>\n",
       "      <td>2.271794e+06</td>\n",
       "    </tr>\n",
       "    <tr>\n",
       "      <th>YUCATAN</th>\n",
       "      <td>4.275000e+06</td>\n",
       "    </tr>\n",
       "    <tr>\n",
       "      <th>ZACATECAS</th>\n",
       "      <td>3.214823e+06</td>\n",
       "    </tr>\n",
       "  </tbody>\n",
       "</table>\n",
       "</div>"
      ],
      "text/plain": [
       "                            monto\n",
       "estado                           \n",
       "AGUASCALIENTES       3.466105e+06\n",
       "BAJA CALIFORNIA      4.064814e+09\n",
       "BAJA CALIFORNIA SUR  2.526217e+07\n",
       "CHIAPAS              1.286202e+07\n",
       "CHIHUAHUA            1.140153e+07\n",
       "COAHUILA             2.176045e+06\n",
       "COLIMA               8.505128e+06\n",
       "DISTRITO FEDERAL     1.070400e+05\n",
       "DURANGO              4.303616e+06\n",
       "GUANAJUATO           4.097959e+06\n",
       "GUERRERO             7.924012e+08\n",
       "HIDALGO              1.175969e+07\n",
       "JALISCO              4.701569e+07\n",
       "MEXICO               1.375717e+09\n",
       "MICHOACAN            1.706729e+08\n",
       "NAYARIT              3.019953e+06\n",
       "NUEVO LEON           1.387195e+06\n",
       "OAXACA               1.184574e+07\n",
       "PUEBLA               7.111039e+06\n",
       "QUERETARO            1.436654e+09\n",
       "QUINTANA ROO         6.717425e+06\n",
       "SAN LUIS POTOSI      9.322500e+06\n",
       "SONORA               9.615245e+07\n",
       "TABASCO              2.334751e+07\n",
       "TAMAULIPAS           1.699352e+08\n",
       "TLAXCALA             2.271794e+06\n",
       "YUCATAN              4.275000e+06\n",
       "ZACATECAS            3.214823e+06"
      ]
     },
     "execution_count": 8,
     "metadata": {},
     "output_type": "execute_result"
    }
   ],
   "source": [
    "beneficiarios[['estado', 'monto']].groupby('estado').sum()"
   ]
  },
  {
   "cell_type": "code",
   "execution_count": null,
   "metadata": {
    "collapsed": true
   },
   "outputs": [],
   "source": []
  }
 ],
 "metadata": {
  "kernelspec": {
   "display_name": "Python 2",
   "language": "python",
   "name": "python2"
  },
  "language_info": {
   "codemirror_mode": {
    "name": "ipython",
    "version": 2
   },
   "file_extension": ".py",
   "mimetype": "text/x-python",
   "name": "python",
   "nbconvert_exporter": "python",
   "pygments_lexer": "ipython2",
   "version": "2.7.13"
  }
 },
 "nbformat": 4,
 "nbformat_minor": 2
}
